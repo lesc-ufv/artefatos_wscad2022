{
 "cells": [
  {
   "cell_type": "code",
   "execution_count": null,
   "metadata": {},
   "outputs": [],
   "source": [
    "import glob\n",
    "import os\n",
    "import numpy as np\n",
    "import pandas as pd"
   ]
  },
  {
   "cell_type": "code",
   "execution_count": null,
   "metadata": {},
   "outputs": [],
   "source": [
    "# platform = glob.glob(\"/tools/aws-fpga/Vitis/aws_platform/*/*.xpfm\")[0]\n",
    "# !emconfigutil -f $platform --nd 1 &> /dev/null\n",
    "\n",
    "# os.environ['EMCONFIG_PATH'] = os.environ['PWD']+'/6-kmeans'\n",
    "# os.environ['XCL_EMULATION_MODE'] = 'hw_emu'\n",
    "\n",
    "# xclbin_sim = glob.glob(\"./hw/kmeans_4x4/xilinx_aws_f1/hw/simulate/*/*.xclbin\")[0]"
   ]
  },
  {
   "cell_type": "code",
   "execution_count": null,
   "metadata": {},
   "outputs": [],
   "source": [
    "N,K =8,4\n",
    "df = pd.read_csv('USCensus1990.data.txt', header=None, nrows=2000000, dtype=np.ushort, usecols=list(range(1,N+1)))\n",
    "\n",
    "xclbin = glob.glob(\"../xclbin_files/*/kmeans_%dx%d.xclbin\"%(N,K))\n",
    "\n",
    "print(xclbin)"
   ]
  },
  {
   "cell_type": "code",
   "execution_count": null,
   "metadata": {},
   "outputs": [],
   "source": [
    "df.info"
   ]
  },
  {
   "cell_type": "code",
   "execution_count": null,
   "metadata": {},
   "outputs": [],
   "source": [
    "from sklearn.cluster import KMeans\n",
    "%time kmeans = KMeans(n_clusters=4,max_iter = 1, random_state=0).fit(df)"
   ]
  },
  {
   "cell_type": "code",
   "execution_count": null,
   "metadata": {},
   "outputs": [],
   "source": [
    "import time\n",
    "st = time.time()\n",
    "kmeans.predict(df)\n",
    "t = (time.time() - st)*1000\n",
    "print('%5.2f(ms)'%t)"
   ]
  },
  {
   "cell_type": "code",
   "execution_count": null,
   "metadata": {},
   "outputs": [],
   "source": [
    "from kmeans import KMeansFPGA\n",
    "N,K =8,4\n",
    "df = pd.read_csv('USCensus1990.data.txt', header=None, nrows=2000000, dtype=np.ushort, usecols=list(range(1,N+1)))\n",
    "km = KMeansFPGA(K,N,1,xclbin[0]).fit(df)\n",
    "p = km.predict(df)"
   ]
  },
  {
   "cell_type": "code",
   "execution_count": null,
   "metadata": {},
   "outputs": [],
   "source": [
    "st = time.time()\n",
    "p = km.predict(df)\n",
    "t = (time.time() - st)*1000\n",
    "print('%5.2f(ms)'%t)"
   ]
  },
  {
   "cell_type": "code",
   "execution_count": null,
   "metadata": {},
   "outputs": [],
   "source": [
    "km.free()"
   ]
  }
 ],
 "metadata": {
  "kernelspec": {
   "display_name": "Python 3",
   "language": "python",
   "name": "python3"
  },
  "language_info": {
   "codemirror_mode": {
    "name": "ipython",
    "version": 3
   },
   "file_extension": ".py",
   "mimetype": "text/x-python",
   "name": "python",
   "nbconvert_exporter": "python",
   "pygments_lexer": "ipython3",
   "version": "3.7.4"
  }
 },
 "nbformat": 4,
 "nbformat_minor": 5
}
